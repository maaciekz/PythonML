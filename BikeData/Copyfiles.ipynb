{
 "cells": [
  {
   "cell_type": "code",
   "execution_count": null,
   "metadata": {},
   "outputs": [
    {
     "name": "stdout",
     "output_type": "stream",
     "text": [
      "Copying file://Pix2Pix/FilesFromStorage.ipynb [Content-Type=application/octet-stream]...\n",
      "Copying file://Pix2Pix/TrainScript.ipynb [Content-Type=application/octet-stream]...\n",
      "Copying file://Pix2Pix/log_50epochs/ckpt-3.data-00001-of-00002 [Content-Type=application/octet-stream]...\n",
      "==> NOTE: You are uploading one or more large file(s), which would run          \n",
      "significantly faster if you enable parallel composite uploads. This\n",
      "feature can be enabled by editing the\n",
      "\"parallel_composite_upload_threshold\" value in your .boto\n",
      "configuration file. However, note that if you do this large files will\n",
      "be uploaded as `composite objects\n",
      "<https://cloud.google.com/storage/docs/composite-objects>`_,which\n",
      "means that any user who downloads such objects will need to have a\n",
      "compiled crcmod installed (see \"gsutil help crcmod\"). This is because\n",
      "without a compiled crcmod, computing checksums on composite objects is\n",
      "so slow that gsutil disables downloads of composite objects.\n",
      "\n",
      "Copying file://Pix2Pix/log_50epochs/ckpt-1.index [Content-Type=application/octet-stream]...\n",
      "| [4 files][657.4 MiB/657.4 MiB]   57.3 MiB/s                                   \n",
      "==> NOTE: You are performing a sequence of gsutil operations that may\n",
      "run significantly faster if you instead use gsutil -m cp ... Please\n",
      "see the -m section under \"gsutil help options\" for further information\n",
      "about when gsutil -m can be advantageous.\n",
      "\n",
      "Copying file://Pix2Pix/log_50epochs/ckpt-3.index [Content-Type=application/octet-stream]...\n",
      "Copying file://Pix2Pix/log_50epochs/ckpt-2.index [Content-Type=application/octet-stream]...\n",
      "Copying file://Pix2Pix/log_50epochs/ckpt-2.data-00000-of-00002 [Content-Type=application/octet-stream]...\n",
      "Copying file://Pix2Pix/log_50epochs/ckpt-1.data-00001-of-00002 [Content-Type=application/octet-stream]...\n",
      "Copying file://Pix2Pix/log_50epochs/ckpt-3.data-00000-of-00002 [Content-Type=application/octet-stream]...\n",
      "Copying file://Pix2Pix/log_50epochs/checkpoint [Content-Type=application/octet-stream]...\n",
      "Copying file://Pix2Pix/log_50epochs/ckpt-2.data-00001-of-00002 [Content-Type=application/octet-stream]...\n",
      "Copying file://Pix2Pix/log_50epochs/ckpt-1.data-00000-of-00002 [Content-Type=application/octet-stream]...\n",
      "Copying file://Pix2Pix/log_50epochs/.ipynb_checkpoints/checkpoint-checkpoint [Content-Type=application/octet-stream]...\n",
      "Copying file://Pix2Pix/log/ckpt-10.data-00001-of-00002 [Content-Type=application/octet-stream]...\n",
      "Copying file://Pix2Pix/log/ckpt-7.data-00001-of-00002 [Content-Type=application/octet-stream]...\n",
      "Copying file://Pix2Pix/log/ckpt-8.data-00000-of-00002 [Content-Type=application/octet-stream]...\n",
      "Copying file://Pix2Pix/log/ckpt-3.data-00001-of-00002 [Content-Type=application/octet-stream]...\n",
      "Copying file://Pix2Pix/log/ckpt-9.data-00001-of-00002 [Content-Type=application/octet-stream]...\n",
      "Copying file://Pix2Pix/log/ckpt-6.index [Content-Type=application/octet-stream]...\n",
      "Copying file://Pix2Pix/log/ckpt-1.index [Content-Type=application/octet-stream]...\n",
      "Copying file://Pix2Pix/log/ckpt-3.index [Content-Type=application/octet-stream]...\n",
      "Copying file://Pix2Pix/log/ckpt-4.data-00001-of-00002 [Content-Type=application/octet-stream]...\n",
      "Copying file://Pix2Pix/log/ckpt-5.index [Content-Type=application/octet-stream]...\n",
      "Copying file://Pix2Pix/log/ckpt-8.index [Content-Type=application/octet-stream]...\n",
      "Copying file://Pix2Pix/log/ckpt-2.index [Content-Type=application/octet-stream]...\n",
      "Copying file://Pix2Pix/log/ckpt-2.data-00000-of-00002 [Content-Type=application/octet-stream]...\n",
      "Copying file://Pix2Pix/log/ckpt-10.data-00000-of-00002 [Content-Type=application/octet-stream]...\n",
      "Copying file://Pix2Pix/log/ckpt-1.data-00001-of-00002 [Content-Type=application/octet-stream]...\n",
      "Copying file://Pix2Pix/log/ckpt-7.index [Content-Type=application/octet-stream]...\n",
      "Copying file://Pix2Pix/log/ckpt-3.data-00000-of-00002 [Content-Type=application/octet-stream]...\n",
      "Copying file://Pix2Pix/log/ckpt-11.data-00000-of-00002 [Content-Type=application/octet-stream]...\n",
      "Copying file://Pix2Pix/log/ckpt-10.index [Content-Type=application/octet-stream]...\n",
      "Copying file://Pix2Pix/log/ckpt-11.index [Content-Type=application/octet-stream]...\n",
      "Copying file://Pix2Pix/log/ckpt-5.data-00001-of-00002 [Content-Type=application/octet-stream]...\n",
      "Copying file://Pix2Pix/log/ckpt-9.index [Content-Type=application/octet-stream]...\n",
      "Copying file://Pix2Pix/log/ckpt-6.data-00000-of-00002 [Content-Type=application/octet-stream]...\n",
      "Copying file://Pix2Pix/log/ckpt-5.data-00000-of-00002 [Content-Type=application/octet-stream]...\n",
      "Copying file://Pix2Pix/log/checkpoint [Content-Type=application/octet-stream]...\n",
      "Copying file://Pix2Pix/log/ckpt-11.data-00001-of-00002 [Content-Type=application/octet-stream]...\n",
      "Copying file://Pix2Pix/log/ckpt-6.data-00001-of-00002 [Content-Type=application/octet-stream]...\n",
      "Copying file://Pix2Pix/log/ckpt-4.index [Content-Type=application/octet-stream]...\n",
      "Copying file://Pix2Pix/log/ckpt-8.data-00001-of-00002 [Content-Type=application/octet-stream]...\n",
      "Copying file://Pix2Pix/log/ckpt-4.data-00000-of-00002 [Content-Type=application/octet-stream]...\n",
      "Copying file://Pix2Pix/log/ckpt-2.data-00001-of-00002 [Content-Type=application/octet-stream]...\n",
      "\\ [43 files][  8.7 GiB/  9.0 GiB]   74.7 MiB/s                                  \r"
     ]
    }
   ],
   "source": [
    "!gsutil cp -r Pix2Pix 'gs://dotrzech/'"
   ]
  },
  {
   "cell_type": "code",
   "execution_count": null,
   "metadata": {},
   "outputs": [],
   "source": []
  }
 ],
 "metadata": {
  "kernelspec": {
   "display_name": "Python 3",
   "language": "python",
   "name": "python3"
  },
  "language_info": {
   "codemirror_mode": {
    "name": "ipython",
    "version": 3
   },
   "file_extension": ".py",
   "mimetype": "text/x-python",
   "name": "python",
   "nbconvert_exporter": "python",
   "pygments_lexer": "ipython3",
   "version": "3.5.3"
  }
 },
 "nbformat": 4,
 "nbformat_minor": 4
}
