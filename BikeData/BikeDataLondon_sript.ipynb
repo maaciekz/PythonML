{
 "cells": [
  {
   "cell_type": "code",
   "execution_count": 6,
   "metadata": {},
   "outputs": [],
   "source": [
    "PROJECT_ID =  \"dotrzechrazy\""
   ]
  },
  {
   "cell_type": "code",
   "execution_count": 7,
   "metadata": {},
   "outputs": [],
   "source": [
    "BUCKET_NAME = \"bike_data_2\"\n",
    "REGION = \"us-central1\""
   ]
  },
  {
   "cell_type": "code",
   "execution_count": 8,
   "metadata": {},
   "outputs": [
    {
     "name": "stdout",
     "output_type": "stream",
     "text": [
      "Creating gs://bike_data_2/...\n",
      "ServiceException: 409 Bucket bike_data_2 already exists.\n"
     ]
    }
   ],
   "source": [
    "!gsutil mb -l $REGION gs://$BUCKET_NAME"
   ]
  },
  {
   "cell_type": "code",
   "execution_count": 3,
   "metadata": {},
   "outputs": [
    {
     "name": "stdout",
     "output_type": "stream",
     "text": [
      "gs://bike_data_2/\n",
      "gs://dotrzech/\n",
      "gs://spamdetector/\n"
     ]
    }
   ],
   "source": [
    "!gsutil ls"
   ]
  },
  {
   "cell_type": "code",
   "execution_count": 10,
   "metadata": {},
   "outputs": [
    {
     "name": "stdout",
     "output_type": "stream",
     "text": [
      "2.1.0\n"
     ]
    }
   ],
   "source": [
    "import tensorflow as tf \n",
    "import pandas as pd\n",
    "import numpy as np \n",
    "import json\n",
    "import time\n",
    "\n",
    "from sklearn.preprocessing import LabelEncoder\n",
    "from sklearn.preprocessing import MinMaxScaler\n",
    "from tabulate import tabulate\n",
    "\n",
    "# Should be 1.15.0\n",
    "print(tf.__version__)"
   ]
  },
  {
   "cell_type": "code",
   "execution_count": null,
   "metadata": {},
   "outputs": [],
   "source": [
    "!gsutil cp 'gs://explanations_sample_data/bike-data.csv' ./"
   ]
  },
  {
   "cell_type": "code",
   "execution_count": 5,
   "metadata": {},
   "outputs": [
    {
     "name": "stdout",
     "output_type": "stream",
     "text": [
      "Copying file://1.ipynb [Content-Type=application/octet-stream]...\n",
      "/ [1 files][  2.7 KiB/  2.7 KiB]                                                \n",
      "Operation completed over 1 objects/2.7 KiB.                                      \n"
     ]
    }
   ],
   "source": [
    "!gsutil cp 1.ipynb  'gs://dotrzech/'"
   ]
  },
  {
   "cell_type": "code",
   "execution_count": 12,
   "metadata": {},
   "outputs": [],
   "source": [
    "data = pd.read_csv('bike-data.csv')\n",
    "\n",
    "# Shuffle the data\n",
    "data = data.sample(frac=1, random_state=2)\n",
    "\n",
    "# Drop rows with null values\n",
    "data = data[data['wdsp'] != 999.9]\n",
    "data = data[data['dewp'] != 9999.9]\n",
    "\n",
    "# Rename some columns for readability\n",
    "data=data.rename(columns = {'day_of_week':'weekday'})\n",
    "data=data.rename(columns = {'max':'max_temp'})\n",
    "data=data.rename(columns = {'dewp': 'dew_point'})\n",
    "\n",
    "# Drop columns we won't use to train this model\n",
    "data = data.drop(columns=['start_station_name', 'end_station_name', 'bike_id', 'snow_ice_pellets'])\n",
    "\n",
    "# Convert trip duration from seconds to minutes so it's easier to understand\n",
    "data['duration'] = data['duration'].apply(lambda x:float(x / 60))"
   ]
  },
  {
   "cell_type": "code",
   "execution_count": 13,
   "metadata": {},
   "outputs": [
    {
     "data": {
      "text/html": [
       "<div>\n",
       "<style scoped>\n",
       "    .dataframe tbody tr th:only-of-type {\n",
       "        vertical-align: middle;\n",
       "    }\n",
       "\n",
       "    .dataframe tbody tr th {\n",
       "        vertical-align: top;\n",
       "    }\n",
       "\n",
       "    .dataframe thead th {\n",
       "        text-align: right;\n",
       "    }\n",
       "</style>\n",
       "<table border=\"1\" class=\"dataframe\">\n",
       "  <thead>\n",
       "    <tr style=\"text-align: right;\">\n",
       "      <th></th>\n",
       "      <th>start_hr</th>\n",
       "      <th>weekday</th>\n",
       "      <th>euclidean</th>\n",
       "      <th>temp</th>\n",
       "      <th>dew_point</th>\n",
       "      <th>wdsp</th>\n",
       "      <th>max_temp</th>\n",
       "      <th>fog</th>\n",
       "      <th>prcp</th>\n",
       "      <th>rain_drizzle</th>\n",
       "      <th>duration</th>\n",
       "    </tr>\n",
       "  </thead>\n",
       "  <tbody>\n",
       "    <tr>\n",
       "      <th>1559391</th>\n",
       "      <td>21</td>\n",
       "      <td>4</td>\n",
       "      <td>582.724880</td>\n",
       "      <td>54.7</td>\n",
       "      <td>46.2</td>\n",
       "      <td>0.0</td>\n",
       "      <td>56.3</td>\n",
       "      <td>0</td>\n",
       "      <td>0.00</td>\n",
       "      <td>0</td>\n",
       "      <td>22.0</td>\n",
       "    </tr>\n",
       "    <tr>\n",
       "      <th>1881386</th>\n",
       "      <td>16</td>\n",
       "      <td>2</td>\n",
       "      <td>2358.922742</td>\n",
       "      <td>57.1</td>\n",
       "      <td>48.2</td>\n",
       "      <td>0.0</td>\n",
       "      <td>64.9</td>\n",
       "      <td>0</td>\n",
       "      <td>0.00</td>\n",
       "      <td>0</td>\n",
       "      <td>12.0</td>\n",
       "    </tr>\n",
       "    <tr>\n",
       "      <th>703461</th>\n",
       "      <td>23</td>\n",
       "      <td>1</td>\n",
       "      <td>766.066253</td>\n",
       "      <td>69.2</td>\n",
       "      <td>51.6</td>\n",
       "      <td>0.0</td>\n",
       "      <td>80.4</td>\n",
       "      <td>0</td>\n",
       "      <td>0.00</td>\n",
       "      <td>0</td>\n",
       "      <td>12.0</td>\n",
       "    </tr>\n",
       "    <tr>\n",
       "      <th>1688076</th>\n",
       "      <td>9</td>\n",
       "      <td>5</td>\n",
       "      <td>2271.877229</td>\n",
       "      <td>52.5</td>\n",
       "      <td>45.4</td>\n",
       "      <td>0.0</td>\n",
       "      <td>63.3</td>\n",
       "      <td>0</td>\n",
       "      <td>0.02</td>\n",
       "      <td>0</td>\n",
       "      <td>13.0</td>\n",
       "    </tr>\n",
       "    <tr>\n",
       "      <th>2079007</th>\n",
       "      <td>14</td>\n",
       "      <td>7</td>\n",
       "      <td>2476.718116</td>\n",
       "      <td>50.3</td>\n",
       "      <td>43.5</td>\n",
       "      <td>0.0</td>\n",
       "      <td>56.1</td>\n",
       "      <td>0</td>\n",
       "      <td>0.01</td>\n",
       "      <td>0</td>\n",
       "      <td>28.0</td>\n",
       "    </tr>\n",
       "  </tbody>\n",
       "</table>\n",
       "</div>"
      ],
      "text/plain": [
       "         start_hr  weekday    euclidean  temp  dew_point  wdsp  max_temp  fog  \\\n",
       "1559391        21        4   582.724880  54.7       46.2   0.0      56.3    0   \n",
       "1881386        16        2  2358.922742  57.1       48.2   0.0      64.9    0   \n",
       "703461         23        1   766.066253  69.2       51.6   0.0      80.4    0   \n",
       "1688076         9        5  2271.877229  52.5       45.4   0.0      63.3    0   \n",
       "2079007        14        7  2476.718116  50.3       43.5   0.0      56.1    0   \n",
       "\n",
       "         prcp  rain_drizzle  duration  \n",
       "1559391  0.00             0      22.0  \n",
       "1881386  0.00             0      12.0  \n",
       "703461   0.00             0      12.0  \n",
       "1688076  0.02             0      13.0  \n",
       "2079007  0.01             0      28.0  "
      ]
     },
     "execution_count": 13,
     "metadata": {},
     "output_type": "execute_result"
    }
   ],
   "source": [
    "data.head()"
   ]
  },
  {
   "cell_type": "code",
   "execution_count": 14,
   "metadata": {},
   "outputs": [],
   "source": [
    "labels = data['duration']\n",
    "data = data.drop(columns=['duration'])"
   ]
  },
  {
   "cell_type": "code",
   "execution_count": 15,
   "metadata": {},
   "outputs": [
    {
     "name": "stdout",
     "output_type": "stream",
     "text": [
      "Train size: 757363\n",
      "Test size: 189341\n"
     ]
    },
    {
     "data": {
      "text/html": [
       "<div>\n",
       "<style scoped>\n",
       "    .dataframe tbody tr th:only-of-type {\n",
       "        vertical-align: middle;\n",
       "    }\n",
       "\n",
       "    .dataframe tbody tr th {\n",
       "        vertical-align: top;\n",
       "    }\n",
       "\n",
       "    .dataframe thead th {\n",
       "        text-align: right;\n",
       "    }\n",
       "</style>\n",
       "<table border=\"1\" class=\"dataframe\">\n",
       "  <thead>\n",
       "    <tr style=\"text-align: right;\">\n",
       "      <th></th>\n",
       "      <th>start_hr</th>\n",
       "      <th>weekday</th>\n",
       "      <th>euclidean</th>\n",
       "      <th>temp</th>\n",
       "      <th>dew_point</th>\n",
       "      <th>wdsp</th>\n",
       "      <th>max_temp</th>\n",
       "      <th>fog</th>\n",
       "      <th>prcp</th>\n",
       "      <th>rain_drizzle</th>\n",
       "    </tr>\n",
       "  </thead>\n",
       "  <tbody>\n",
       "    <tr>\n",
       "      <th>1559391</th>\n",
       "      <td>21</td>\n",
       "      <td>4</td>\n",
       "      <td>582.724880</td>\n",
       "      <td>54.7</td>\n",
       "      <td>46.2</td>\n",
       "      <td>0.0</td>\n",
       "      <td>56.3</td>\n",
       "      <td>0</td>\n",
       "      <td>0.00</td>\n",
       "      <td>0</td>\n",
       "    </tr>\n",
       "    <tr>\n",
       "      <th>1881386</th>\n",
       "      <td>16</td>\n",
       "      <td>2</td>\n",
       "      <td>2358.922742</td>\n",
       "      <td>57.1</td>\n",
       "      <td>48.2</td>\n",
       "      <td>0.0</td>\n",
       "      <td>64.9</td>\n",
       "      <td>0</td>\n",
       "      <td>0.00</td>\n",
       "      <td>0</td>\n",
       "    </tr>\n",
       "    <tr>\n",
       "      <th>703461</th>\n",
       "      <td>23</td>\n",
       "      <td>1</td>\n",
       "      <td>766.066253</td>\n",
       "      <td>69.2</td>\n",
       "      <td>51.6</td>\n",
       "      <td>0.0</td>\n",
       "      <td>80.4</td>\n",
       "      <td>0</td>\n",
       "      <td>0.00</td>\n",
       "      <td>0</td>\n",
       "    </tr>\n",
       "    <tr>\n",
       "      <th>1688076</th>\n",
       "      <td>9</td>\n",
       "      <td>5</td>\n",
       "      <td>2271.877229</td>\n",
       "      <td>52.5</td>\n",
       "      <td>45.4</td>\n",
       "      <td>0.0</td>\n",
       "      <td>63.3</td>\n",
       "      <td>0</td>\n",
       "      <td>0.02</td>\n",
       "      <td>0</td>\n",
       "    </tr>\n",
       "    <tr>\n",
       "      <th>2079007</th>\n",
       "      <td>14</td>\n",
       "      <td>7</td>\n",
       "      <td>2476.718116</td>\n",
       "      <td>50.3</td>\n",
       "      <td>43.5</td>\n",
       "      <td>0.0</td>\n",
       "      <td>56.1</td>\n",
       "      <td>0</td>\n",
       "      <td>0.01</td>\n",
       "      <td>0</td>\n",
       "    </tr>\n",
       "  </tbody>\n",
       "</table>\n",
       "</div>"
      ],
      "text/plain": [
       "         start_hr  weekday    euclidean  temp  dew_point  wdsp  max_temp  fog  \\\n",
       "1559391        21        4   582.724880  54.7       46.2   0.0      56.3    0   \n",
       "1881386        16        2  2358.922742  57.1       48.2   0.0      64.9    0   \n",
       "703461         23        1   766.066253  69.2       51.6   0.0      80.4    0   \n",
       "1688076         9        5  2271.877229  52.5       45.4   0.0      63.3    0   \n",
       "2079007        14        7  2476.718116  50.3       43.5   0.0      56.1    0   \n",
       "\n",
       "         prcp  rain_drizzle  \n",
       "1559391  0.00             0  \n",
       "1881386  0.00             0  \n",
       "703461   0.00             0  \n",
       "1688076  0.02             0  \n",
       "2079007  0.01             0  "
      ]
     },
     "execution_count": 15,
     "metadata": {},
     "output_type": "execute_result"
    }
   ],
   "source": [
    "# Use 80/20 train/test split\n",
    "train_size = int(len(data) * .8)\n",
    "print (\"Train size: %d\" % train_size)\n",
    "print (\"Test size: %d\" % (len(data) - train_size))\n",
    "\n",
    "# Split our data into train and test sets\n",
    "train_data = data[:train_size]\n",
    "train_labels = labels[:train_size]\n",
    "\n",
    "test_data = data[train_size:]\n",
    "test_labels = labels[train_size:]\n",
    "train_data.head()"
   ]
  },
  {
   "cell_type": "code",
   "execution_count": 16,
   "metadata": {},
   "outputs": [],
   "source": [
    "# Build our model\n",
    "model = tf.keras.Sequential(name=\"bike_predict\")\n",
    "model.add(tf.keras.layers.Dense(64, input_dim=len(train_data.iloc[0]), activation='relu'))\n",
    "model.add(tf.keras.layers.Dense(32, activation='relu'))\n",
    "model.add(tf.keras.layers.Dense(1))"
   ]
  },
  {
   "cell_type": "code",
   "execution_count": 17,
   "metadata": {},
   "outputs": [
    {
     "name": "stdout",
     "output_type": "stream",
     "text": [
      "Model: \"bike_predict\"\n",
      "_________________________________________________________________\n",
      "Layer (type)                 Output Shape              Param #   \n",
      "=================================================================\n",
      "dense (Dense)                (None, 64)                704       \n",
      "_________________________________________________________________\n",
      "dense_1 (Dense)              (None, 32)                2080      \n",
      "_________________________________________________________________\n",
      "dense_2 (Dense)              (None, 1)                 33        \n",
      "=================================================================\n",
      "Total params: 2,817\n",
      "Trainable params: 2,817\n",
      "Non-trainable params: 0\n",
      "_________________________________________________________________\n"
     ]
    }
   ],
   "source": [
    "# Compile the model and see a summary\n",
    "optimizer = tf.keras.optimizers.Adam(0.001)\n",
    "model.compile(loss='mean_squared_logarithmic_error', optimizer=optimizer)\n",
    "model.summary()"
   ]
  },
  {
   "cell_type": "code",
   "execution_count": 18,
   "metadata": {},
   "outputs": [],
   "source": [
    "batch_size = 190\n",
    "epochs = 3\n",
    "\n",
    "input_train = tf.data.Dataset.from_tensor_slices(train_data.values)\n",
    "output_train = tf.data.Dataset.from_tensor_slices(train_labels.values)\n",
    "input_train = input_train.batch(batch_size).repeat()\n",
    "output_train = output_train.batch(batch_size).repeat()\n",
    "train_dataset = tf.data.Dataset.zip((input_train, output_train))\n",
    "\n"
   ]
  },
  {
   "cell_type": "code",
   "execution_count": 19,
   "metadata": {},
   "outputs": [
    {
     "name": "stdout",
     "output_type": "stream",
     "text": [
      "Train for 3986 steps\n",
      "Epoch 1/3\n",
      "3986/3986 [==============================] - 55s 14ms/step - loss: 0.4760\n",
      "Epoch 2/3\n",
      "3986/3986 [==============================] - 39s 10ms/step - loss: 0.4761\n",
      "Epoch 3/3\n",
      "3986/3986 [==============================] - 37s 9ms/step - loss: 0.3635\n"
     ]
    },
    {
     "data": {
      "text/plain": [
       "<tensorflow.python.keras.callbacks.History at 0x7fa05c1ed630>"
      ]
     },
     "execution_count": 19,
     "metadata": {},
     "output_type": "execute_result"
    }
   ],
   "source": [
    "model.fit(train_dataset, steps_per_epoch=train_size // batch_size, epochs=epochs)"
   ]
  },
  {
   "cell_type": "code",
   "execution_count": 20,
   "metadata": {},
   "outputs": [
    {
     "name": "stdout",
     "output_type": "stream",
     "text": [
      "189341/189341 [==============================] - 15s 80us/sample - loss: 0.3610\n",
      "0.36099003442602756\n"
     ]
    }
   ],
   "source": [
    "results = model.evaluate(test_data, test_labels)\n",
    "print(results)"
   ]
  },
  {
   "cell_type": "code",
   "execution_count": 21,
   "metadata": {},
   "outputs": [],
   "source": [
    "predict = model.predict(test_data[:5])"
   ]
  },
  {
   "cell_type": "code",
   "execution_count": 22,
   "metadata": {},
   "outputs": [
    {
     "name": "stdout",
     "output_type": "stream",
     "text": [
      "Predicted duration: 19.0\n",
      "Actual duration: 22.0 \n",
      "\n",
      "Predicted duration: 28.0\n",
      "Actual duration: 31.0 \n",
      "\n",
      "Predicted duration: 27.0\n",
      "Actual duration: 23.0 \n",
      "\n",
      "Predicted duration: 18.0\n",
      "Actual duration: 14.0 \n",
      "\n",
      "Predicted duration: 13.0\n",
      "Actual duration: 9.0 \n",
      "\n"
     ]
    }
   ],
   "source": [
    "for i, val in enumerate(predict):\n",
    "    print('Predicted duration: {}'.format(round(val[0])))\n",
    "    print('Actual duration: {} \\n'.format(test_labels.iloc[i]))"
   ]
  },
  {
   "cell_type": "code",
   "execution_count": 23,
   "metadata": {},
   "outputs": [
    {
     "name": "stdout",
     "output_type": "stream",
     "text": [
      "INFO:tensorflow:Using default config.\n",
      "INFO:tensorflow:Using the Keras model provided.\n",
      "INFO:tensorflow:Using config: {'_eval_distribute': None, '_is_chief': True, '_protocol': None, '_keep_checkpoint_every_n_hours': 10000, '_session_creation_timeout_secs': 7200, '_train_distribute': None, '_num_ps_replicas': 0, '_keep_checkpoint_max': 5, '_task_id': 0, '_num_worker_replicas': 1, '_model_dir': 'export', '_cluster_spec': ClusterSpec({}), '_master': '', '_save_summary_steps': 100, '_device_fn': None, '_global_id_in_cluster': 0, '_save_checkpoints_steps': None, '_log_step_count_steps': 100, '_evaluation_master': '', '_session_config': allow_soft_placement: true\n",
      "graph_options {\n",
      "  rewrite_options {\n",
      "    meta_optimizer_iterations: ONE\n",
      "  }\n",
      "}\n",
      ", '_save_checkpoints_secs': 600, '_experimental_max_worker_delay_secs': None, '_service': None, '_experimental_distribute': None, '_tf_random_seed': None, '_task_type': 'worker'}\n"
     ]
    }
   ],
   "source": [
    "keras_estimator = tf.keras.estimator.model_to_estimator(keras_model=model, model_dir='export')"
   ]
  },
  {
   "cell_type": "code",
   "execution_count": 24,
   "metadata": {},
   "outputs": [],
   "source": [
    "serving_fn = tf.estimator.export.build_raw_serving_input_receiver_fn(\n",
    "    {'dense_input': model.input}\n",
    ")"
   ]
  },
  {
   "cell_type": "code",
   "execution_count": 25,
   "metadata": {},
   "outputs": [
    {
     "name": "stdout",
     "output_type": "stream",
     "text": [
      "WARNING:tensorflow:From /usr/local/lib/python3.5/dist-packages/tensorflow_core/python/ops/resource_variable_ops.py:1635: calling BaseResourceVariable.__init__ (from tensorflow.python.ops.resource_variable_ops) with constraint is deprecated and will be removed in a future version.\n",
      "Instructions for updating:\n",
      "If using Keras pass *_constraint arguments to layers.\n",
      "INFO:tensorflow:Calling model_fn.\n",
      "INFO:tensorflow:Done calling model_fn.\n",
      "WARNING:tensorflow:From /usr/local/lib/python3.5/dist-packages/tensorflow_core/python/saved_model/signature_def_utils_impl.py:201: build_tensor_info (from tensorflow.python.saved_model.utils_impl) is deprecated and will be removed in a future version.\n",
      "Instructions for updating:\n",
      "This function will only be available through the v1 compatibility library as tf.compat.v1.saved_model.utils.build_tensor_info or tf.compat.v1.saved_model.build_tensor_info.\n",
      "INFO:tensorflow:Signatures INCLUDED in export for Predict: ['serving_default']\n",
      "INFO:tensorflow:Signatures INCLUDED in export for Eval: None\n",
      "INFO:tensorflow:Signatures INCLUDED in export for Classify: None\n",
      "INFO:tensorflow:Signatures INCLUDED in export for Regress: None\n",
      "INFO:tensorflow:Signatures INCLUDED in export for Train: None\n",
      "INFO:tensorflow:Restoring parameters from export/keras/keras_model.ckpt\n",
      "INFO:tensorflow:Assets added to graph.\n",
      "INFO:tensorflow:No assets to write.\n",
      "INFO:tensorflow:SavedModel written to: gs://bike_data_2/explanations/temp-b'1582664383'/saved_model.pb\n",
      "gs://bike_data_2/explanations/1582664383\n"
     ]
    }
   ],
   "source": [
    "export_path = keras_estimator.export_saved_model(\n",
    "  'gs://' + BUCKET_NAME + '/explanations',\n",
    "  serving_input_receiver_fn=serving_fn\n",
    ").decode('utf-8')\n",
    "print(export_path)"
   ]
  },
  {
   "cell_type": "code",
   "execution_count": 26,
   "metadata": {},
   "outputs": [
    {
     "name": "stdout",
     "output_type": "stream",
     "text": [
      "\n",
      "MetaGraphDef with tag-set: 'serve' contains the following SignatureDefs:\n",
      "\n",
      "signature_def['serving_default']:\n",
      "  The given SavedModel SignatureDef contains the following input(s):\n",
      "    inputs['dense_input'] tensor_info:\n",
      "        dtype: DT_FLOAT\n",
      "        shape: (-1, 10)\n",
      "        name: dense_input:0\n",
      "  The given SavedModel SignatureDef contains the following output(s):\n",
      "    outputs['dense_2'] tensor_info:\n",
      "        dtype: DT_FLOAT\n",
      "        shape: (-1, 1)\n",
      "        name: dense_2/BiasAdd:0\n",
      "  Method name is: tensorflow/serving/predict\n"
     ]
    }
   ],
   "source": [
    "!saved_model_cli show --dir $export_path --all"
   ]
  },
  {
   "cell_type": "code",
   "execution_count": 27,
   "metadata": {},
   "outputs": [
    {
     "name": "stdout",
     "output_type": "stream",
     "text": [
      "Model input tensor:  dense_input:0\n",
      "Model output tensor:  dense_2/Identity:0\n"
     ]
    }
   ],
   "source": [
    "# Print the names of our tensors\n",
    "print('Model input tensor: ', model.input.name)\n",
    "print('Model output tensor: ', model.output.name)"
   ]
  },
  {
   "cell_type": "code",
   "execution_count": 28,
   "metadata": {},
   "outputs": [],
   "source": [
    "explanation_metadata = {\n",
    "    \"inputs\": {\n",
    "      \"data\": {\n",
    "        \"input_tensor_name\": model.input.name,\n",
    "        \"input_baselines\": [train_data.median().values.tolist()],\n",
    "        \"encoding\": \"bag_of_features\", \n",
    "        \"index_feature_mapping\": train_data.columns.tolist()\n",
    "      }\n",
    "    },\n",
    "    \"outputs\": {\n",
    "      \"duration\": {\n",
    "        \"output_tensor_name\": model.output.name\n",
    "      }\n",
    "    },\n",
    "  \"framework\": \"tensorflow\"\n",
    "  }"
   ]
  },
  {
   "cell_type": "code",
   "execution_count": 29,
   "metadata": {},
   "outputs": [],
   "source": [
    "# Write the json to a local file\n",
    "with open('explanation_metadata.json', 'w') as output_file:\n",
    "    json.dump(explanation_metadata, output_file)"
   ]
  },
  {
   "cell_type": "code",
   "execution_count": 30,
   "metadata": {},
   "outputs": [
    {
     "name": "stdout",
     "output_type": "stream",
     "text": [
      "Copying file://explanation_metadata.json [Content-Type=application/json]...\n",
      "/ [1 files][  416.0 B/  416.0 B]                                                \n",
      "Operation completed over 1 objects/416.0 B.                                      \n"
     ]
    }
   ],
   "source": [
    "!gsutil cp explanation_metadata.json $export_path"
   ]
  },
  {
   "cell_type": "code",
   "execution_count": 35,
   "metadata": {},
   "outputs": [],
   "source": [
    "MODEL = 'bike2'"
   ]
  },
  {
   "cell_type": "code",
   "execution_count": 36,
   "metadata": {},
   "outputs": [
    {
     "name": "stdout",
     "output_type": "stream",
     "text": [
      "Created ml engine model [projects/dotrzechrazy/models/bike2].\n"
     ]
    }
   ],
   "source": [
    "!gcloud ai-platform models create $MODEL --enable-logging --regions=us-central1"
   ]
  },
  {
   "cell_type": "code",
   "execution_count": 62,
   "metadata": {},
   "outputs": [],
   "source": [
    "VERSION = 'v3'"
   ]
  },
  {
   "cell_type": "code",
   "execution_count": 63,
   "metadata": {},
   "outputs": [
    {
     "name": "stdout",
     "output_type": "stream",
     "text": [
      "Creating version (this might take a few minutes)......done.                    \n"
     ]
    }
   ],
   "source": [
    "# Create the version with gcloud\n",
    "explain_method = 'integrated-gradients'\n",
    "!gcloud beta ai-platform versions create $VERSION \\\n",
    "--model $MODEL \\\n",
    "--origin $export_path \\\n",
    "--runtime-version 1.15 \\\n",
    "--framework TENSORFLOW \\\n",
    "--python-version 3.7 \\\n",
    "--machine-type n1-standard-4 \\\n",
    "--num-integral-steps 25"
   ]
  },
  {
   "cell_type": "code",
   "execution_count": 81,
   "metadata": {},
   "outputs": [],
   "source": [
    "# Format data for prediction to our model\n",
    "prediction_json = {'dense_input': test_data.iloc[2].values.tolist()}\n",
    "with open('bike-data4.txt', 'a') as outfile:\n",
    "     json.dump(prediction_json, outfile)"
   ]
  },
  {
   "cell_type": "code",
   "execution_count": 83,
   "metadata": {},
   "outputs": [
    {
     "name": "stdout",
     "output_type": "stream",
     "text": [
      "{\"dense_input\": [18.0, 2.0, 3919.0952753459173, 53.2, 41.1, 0.0, 61.7, 0.0, 0.05, 0.0]}"
     ]
    }
   ],
   "source": [
    "!cat bike-data4.txt"
   ]
  },
  {
   "cell_type": "code",
   "execution_count": 84,
   "metadata": {},
   "outputs": [],
   "source": [
    "MODEL_NAME=\"bike2\"\n",
    "INPUT_DATA_FILE=\"bike-data4.txt\"\n",
    "VERSION_NAME=\"v3\""
   ]
  },
  {
   "cell_type": "code",
   "execution_count": 85,
   "metadata": {},
   "outputs": [],
   "source": [
    "resp_obj = !gcloud ml-engine predict --model $MODEL_NAME \\\n",
    "  --version $VERSION_NAME \\\n",
    "  --json-instances $INPUT_DATA_FILE"
   ]
  },
  {
   "cell_type": "code",
   "execution_count": 86,
   "metadata": {},
   "outputs": [
    {
     "data": {
      "text/plain": [
       "['WARNING: The `gcloud ml-engine` commands have been renamed and will soon be removed. Please use `gcloud ai-platform` instead.',\n",
       " '[[-859.313965]]']"
      ]
     },
     "execution_count": 86,
     "metadata": {},
     "output_type": "execute_result"
    }
   ],
   "source": [
    "resp_obj"
   ]
  },
  {
   "cell_type": "code",
   "execution_count": 87,
   "metadata": {},
   "outputs": [],
   "source": [
    "resp_obj2 = !gcloud beta ai-platform predict --model $MODEL --version $VERSION --json-instances='bike-data4.txt'"
   ]
  },
  {
   "cell_type": "code",
   "execution_count": 88,
   "metadata": {},
   "outputs": [
    {
     "data": {
      "text/plain": [
       "['[[-859.313965]]']"
      ]
     },
     "execution_count": 88,
     "metadata": {},
     "output_type": "execute_result"
    }
   ],
   "source": [
    "resp_obj2"
   ]
  },
  {
   "cell_type": "code",
   "execution_count": null,
   "metadata": {},
   "outputs": [],
   "source": []
  }
 ],
 "metadata": {
  "kernelspec": {
   "display_name": "Python 3",
   "language": "python",
   "name": "python3"
  },
  "language_info": {
   "codemirror_mode": {
    "name": "ipython",
    "version": 3
   },
   "file_extension": ".py",
   "mimetype": "text/x-python",
   "name": "python",
   "nbconvert_exporter": "python",
   "pygments_lexer": "ipython3",
   "version": "3.5.3"
  }
 },
 "nbformat": 4,
 "nbformat_minor": 4
}
